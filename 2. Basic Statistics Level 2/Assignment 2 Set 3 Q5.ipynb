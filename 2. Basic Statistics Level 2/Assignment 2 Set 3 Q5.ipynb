{
 "cells": [
  {
   "cell_type": "code",
   "execution_count": 2,
   "id": "97e57fca",
   "metadata": {},
   "outputs": [],
   "source": [
    "import numpy as np\n",
    "from scipy import stats\n",
    "from scipy.stats import norm"
   ]
  },
  {
   "cell_type": "code",
   "execution_count": 5,
   "id": "67fc2b7b",
   "metadata": {},
   "outputs": [
    {
     "data": {
      "text/plain": [
       "-0.820782681668124"
      ]
     },
     "execution_count": 5,
     "metadata": {},
     "output_type": "execute_result"
    }
   ],
   "source": [
    "# one tail z-test one sample\n",
    "\n",
    "Z_score = (0.046-0.05)/np.sqrt((0.05*(1-0.05))/2000)\n",
    "Z_score"
   ]
  },
  {
   "cell_type": "code",
   "execution_count": 6,
   "id": "689b0d87",
   "metadata": {},
   "outputs": [
    {
     "data": {
      "text/plain": [
       "0.20588503245107104"
      ]
     },
     "execution_count": 6,
     "metadata": {},
     "output_type": "execute_result"
    }
   ],
   "source": [
    "# Find Probability assuming null hyposthesis, so as to compare with Type-1 error α = 0.05\n",
    "\n",
    "p_value=1-stats.norm.cdf(abs(Z_score))\n",
    "p_value\n"
   ]
  },
  {
   "cell_type": "code",
   "execution_count": null,
   "id": "3aa12815",
   "metadata": {},
   "outputs": [],
   "source": []
  }
 ],
 "metadata": {
  "kernelspec": {
   "display_name": "Python 3 (ipykernel)",
   "language": "python",
   "name": "python3"
  },
  "language_info": {
   "codemirror_mode": {
    "name": "ipython",
    "version": 3
   },
   "file_extension": ".py",
   "mimetype": "text/x-python",
   "name": "python",
   "nbconvert_exporter": "python",
   "pygments_lexer": "ipython3",
   "version": "3.9.12"
  }
 },
 "nbformat": 4,
 "nbformat_minor": 5
}
